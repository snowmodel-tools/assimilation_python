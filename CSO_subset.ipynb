{
 "cells": [
  {
   "cell_type": "code",
   "execution_count": 7,
   "metadata": {},
   "outputs": [],
   "source": [
    "import geopandas as gpd\n",
    "import pandas as pd\n",
    "import seaborn as sns\n",
    "import numpy as np\n",
    "import cartopy.crs as ccrs\n",
    "import matplotlib.pyplot as plt\n",
    "\n",
    "domain = 'WY'"
   ]
  },
  {
   "cell_type": "code",
   "execution_count": 11,
   "metadata": {},
   "outputs": [
    {
     "data": {
      "text/html": [
       "<div>\n",
       "<style scoped>\n",
       "    .dataframe tbody tr th:only-of-type {\n",
       "        vertical-align: middle;\n",
       "    }\n",
       "\n",
       "    .dataframe tbody tr th {\n",
       "        vertical-align: top;\n",
       "    }\n",
       "\n",
       "    .dataframe thead th {\n",
       "        text-align: right;\n",
       "    }\n",
       "</style>\n",
       "<table border=\"1\" class=\"dataframe\">\n",
       "  <thead>\n",
       "    <tr style=\"text-align: right;\">\n",
       "      <th></th>\n",
       "      <th>code</th>\n",
       "      <th>longitude</th>\n",
       "      <th>latitude</th>\n",
       "      <th>name</th>\n",
       "      <th>elevation_m</th>\n",
       "      <th>easting</th>\n",
       "      <th>northing</th>\n",
       "      <th>x</th>\n",
       "      <th>y</th>\n",
       "      <th>dem_elev</th>\n",
       "      <th>slope</th>\n",
       "      <th>aspect</th>\n",
       "      <th>lc</th>\n",
       "      <th>tc</th>\n",
       "      <th>geometry</th>\n",
       "    </tr>\n",
       "  </thead>\n",
       "  <tbody>\n",
       "    <tr>\n",
       "      <th>0</th>\n",
       "      <td>314_WY_SNTL</td>\n",
       "      <td>-110.445442</td>\n",
       "      <td>43.940189</td>\n",
       "      <td>Base Camp</td>\n",
       "      <td>2151.887939453125</td>\n",
       "      <td>544505.845453</td>\n",
       "      <td>4.865379e+06</td>\n",
       "      <td>544505.845453</td>\n",
       "      <td>4.865379e+06</td>\n",
       "      <td>2145</td>\n",
       "      <td>14.826075</td>\n",
       "      <td>2.0</td>\n",
       "      <td>1.0</td>\n",
       "      <td>12</td>\n",
       "      <td>POINT (-110.44544 43.94019)</td>\n",
       "    </tr>\n",
       "    <tr>\n",
       "      <th>1</th>\n",
       "      <td>347_MT_SNTL</td>\n",
       "      <td>-111.128029</td>\n",
       "      <td>44.508320</td>\n",
       "      <td>Black Bear</td>\n",
       "      <td>2490.216064453125</td>\n",
       "      <td>489823.440274</td>\n",
       "      <td>4.928341e+06</td>\n",
       "      <td>489823.440274</td>\n",
       "      <td>4.928341e+06</td>\n",
       "      <td>2493</td>\n",
       "      <td>1.510381</td>\n",
       "      <td>3.0</td>\n",
       "      <td>1.0</td>\n",
       "      <td>2</td>\n",
       "      <td>POINT (-111.12803 44.50832)</td>\n",
       "    </tr>\n",
       "    <tr>\n",
       "      <th>2</th>\n",
       "      <td>350_WY_SNTL</td>\n",
       "      <td>-109.793327</td>\n",
       "      <td>44.376671</td>\n",
       "      <td>Blackwater</td>\n",
       "      <td>2980.944091796875</td>\n",
       "      <td>596129.923439</td>\n",
       "      <td>4.914418e+06</td>\n",
       "      <td>596129.923439</td>\n",
       "      <td>4.914418e+06</td>\n",
       "      <td>3006</td>\n",
       "      <td>18.073633</td>\n",
       "      <td>1.0</td>\n",
       "      <td>1.0</td>\n",
       "      <td>15</td>\n",
       "      <td>POINT (-109.79333 44.37667)</td>\n",
       "    </tr>\n",
       "    <tr>\n",
       "      <th>3</th>\n",
       "      <td>353_WY_SNTL</td>\n",
       "      <td>-110.609734</td>\n",
       "      <td>42.964001</td>\n",
       "      <td>Blind Bull Sum</td>\n",
       "      <td>2636.52001953125</td>\n",
       "      <td>531828.554679</td>\n",
       "      <td>4.756891e+06</td>\n",
       "      <td>531828.554679</td>\n",
       "      <td>4.756891e+06</td>\n",
       "      <td>2716</td>\n",
       "      <td>0.637377</td>\n",
       "      <td>0.0</td>\n",
       "      <td>1.0</td>\n",
       "      <td>3</td>\n",
       "      <td>POINT (-110.60973 42.96400)</td>\n",
       "    </tr>\n",
       "    <tr>\n",
       "      <th>4</th>\n",
       "      <td>419_WY_SNTL</td>\n",
       "      <td>-110.814819</td>\n",
       "      <td>42.645901</td>\n",
       "      <td>Cottonwood Creek</td>\n",
       "      <td>2337.81591796875</td>\n",
       "      <td>515180.157295</td>\n",
       "      <td>4.721511e+06</td>\n",
       "      <td>515180.157295</td>\n",
       "      <td>4.721511e+06</td>\n",
       "      <td>2351</td>\n",
       "      <td>14.629807</td>\n",
       "      <td>6.0</td>\n",
       "      <td>1.0</td>\n",
       "      <td>18</td>\n",
       "      <td>POINT (-110.81482 42.64590)</td>\n",
       "    </tr>\n",
       "  </tbody>\n",
       "</table>\n",
       "</div>"
      ],
      "text/plain": [
       "          code   longitude   latitude              name        elevation_m  \\\n",
       "0  314_WY_SNTL -110.445442  43.940189         Base Camp  2151.887939453125   \n",
       "1  347_MT_SNTL -111.128029  44.508320        Black Bear  2490.216064453125   \n",
       "2  350_WY_SNTL -109.793327  44.376671        Blackwater  2980.944091796875   \n",
       "3  353_WY_SNTL -110.609734  42.964001    Blind Bull Sum   2636.52001953125   \n",
       "4  419_WY_SNTL -110.814819  42.645901  Cottonwood Creek   2337.81591796875   \n",
       "\n",
       "         easting      northing              x             y  dem_elev  \\\n",
       "0  544505.845453  4.865379e+06  544505.845453  4.865379e+06      2145   \n",
       "1  489823.440274  4.928341e+06  489823.440274  4.928341e+06      2493   \n",
       "2  596129.923439  4.914418e+06  596129.923439  4.914418e+06      3006   \n",
       "3  531828.554679  4.756891e+06  531828.554679  4.756891e+06      2716   \n",
       "4  515180.157295  4.721511e+06  515180.157295  4.721511e+06      2351   \n",
       "\n",
       "       slope  aspect   lc  tc                     geometry  \n",
       "0  14.826075     2.0  1.0  12  POINT (-110.44544 43.94019)  \n",
       "1   1.510381     3.0  1.0   2  POINT (-111.12803 44.50832)  \n",
       "2  18.073633     1.0  1.0  15  POINT (-109.79333 44.37667)  \n",
       "3   0.637377     0.0  1.0   3  POINT (-110.60973 42.96400)  \n",
       "4  14.629807     6.0  1.0  18  POINT (-110.81482 42.64590)  "
      ]
     },
     "execution_count": 11,
     "metadata": {},
     "output_type": "execute_result"
    }
   ],
   "source": [
    "#load snotel file \n",
    "assimPath = '/nfs/attic/dfh/Aragon2/CSOassim/'+domain+'/'\n",
    "# Figure path\n",
    "figpath = '/nfs/attic/dfh/Aragon2/CSOfigs/'+domain+'/'\n",
    "\n",
    "stn_proj = 'epsg:4326'                                     \n",
    "gdf = gpd.read_file(assimPath+\"SNOTEL_attributes.json\", driver=\"GeoJSON\", crs=stn_proj)\n",
    "gdf.head()"
   ]
  },
  {
   "cell_type": "code",
   "execution_count": 12,
   "metadata": {},
   "outputs": [
    {
     "data": {
      "text/html": [
       "<div>\n",
       "<style scoped>\n",
       "    .dataframe tbody tr th:only-of-type {\n",
       "        vertical-align: middle;\n",
       "    }\n",
       "\n",
       "    .dataframe tbody tr th {\n",
       "        vertical-align: top;\n",
       "    }\n",
       "\n",
       "    .dataframe thead th {\n",
       "        text-align: right;\n",
       "    }\n",
       "</style>\n",
       "<table border=\"1\" class=\"dataframe\">\n",
       "  <thead>\n",
       "    <tr style=\"text-align: right;\">\n",
       "      <th></th>\n",
       "      <th>index</th>\n",
       "      <th>id</th>\n",
       "      <th>author</th>\n",
       "      <th>depth</th>\n",
       "      <th>source</th>\n",
       "      <th>timestamp</th>\n",
       "      <th>elevation</th>\n",
       "      <th>x</th>\n",
       "      <th>y</th>\n",
       "      <th>dem_elev</th>\n",
       "      <th>slope</th>\n",
       "      <th>aspect</th>\n",
       "      <th>lc</th>\n",
       "      <th>tc</th>\n",
       "      <th>M</th>\n",
       "      <th>D</th>\n",
       "      <th>LON</th>\n",
       "      <th>LAT</th>\n",
       "      <th>H</th>\n",
       "      <th>geometry</th>\n",
       "    </tr>\n",
       "  </thead>\n",
       "  <tbody>\n",
       "    <tr>\n",
       "      <th>0</th>\n",
       "      <td>124</td>\n",
       "      <td>D3gyiOmE</td>\n",
       "      <td>Katie O’Connell</td>\n",
       "      <td>10.00</td>\n",
       "      <td>MountainHub</td>\n",
       "      <td>2019-04-25T02:25:30</td>\n",
       "      <td>2131.137695</td>\n",
       "      <td>532422.643976</td>\n",
       "      <td>4.835319e+06</td>\n",
       "      <td>2128</td>\n",
       "      <td>8.500000</td>\n",
       "      <td>7.0</td>\n",
       "      <td>6.0</td>\n",
       "      <td>8</td>\n",
       "      <td>4</td>\n",
       "      <td>25</td>\n",
       "      <td>-110.597819</td>\n",
       "      <td>43.670172</td>\n",
       "      <td>100.0</td>\n",
       "      <td>POINT (-110.59782 43.67017)</td>\n",
       "    </tr>\n",
       "    <tr>\n",
       "      <th>1</th>\n",
       "      <td>125</td>\n",
       "      <td>SEJG7WBM</td>\n",
       "      <td>Katie O’Connell</td>\n",
       "      <td>72.00</td>\n",
       "      <td>MountainHub</td>\n",
       "      <td>2019-04-25T02:24:32</td>\n",
       "      <td>2127.995361</td>\n",
       "      <td>532364.144681</td>\n",
       "      <td>4.835374e+06</td>\n",
       "      <td>2124</td>\n",
       "      <td>6.775415</td>\n",
       "      <td>7.0</td>\n",
       "      <td>6.0</td>\n",
       "      <td>6</td>\n",
       "      <td>4</td>\n",
       "      <td>25</td>\n",
       "      <td>-110.598541</td>\n",
       "      <td>43.670671</td>\n",
       "      <td>720.0</td>\n",
       "      <td>POINT (-110.59854 43.67067)</td>\n",
       "    </tr>\n",
       "    <tr>\n",
       "      <th>2</th>\n",
       "      <td>126</td>\n",
       "      <td>Vn9QgQA7</td>\n",
       "      <td>Leanne</td>\n",
       "      <td>27.94</td>\n",
       "      <td>MountainHub</td>\n",
       "      <td>2019-04-24T15:56:24</td>\n",
       "      <td>2146.224609</td>\n",
       "      <td>532764.130403</td>\n",
       "      <td>4.835319e+06</td>\n",
       "      <td>2147</td>\n",
       "      <td>7.386643</td>\n",
       "      <td>7.0</td>\n",
       "      <td>2.0</td>\n",
       "      <td>7</td>\n",
       "      <td>4</td>\n",
       "      <td>24</td>\n",
       "      <td>-110.593583</td>\n",
       "      <td>43.670154</td>\n",
       "      <td>279.4</td>\n",
       "      <td>POINT (-110.59358 43.67015)</td>\n",
       "    </tr>\n",
       "    <tr>\n",
       "      <th>3</th>\n",
       "      <td>127</td>\n",
       "      <td>xlFXLIST</td>\n",
       "      <td>Leanne</td>\n",
       "      <td>25.40</td>\n",
       "      <td>MountainHub</td>\n",
       "      <td>2019-04-24T15:53:28</td>\n",
       "      <td>2156.758057</td>\n",
       "      <td>532954.088693</td>\n",
       "      <td>4.835360e+06</td>\n",
       "      <td>2154</td>\n",
       "      <td>11.259718</td>\n",
       "      <td>7.0</td>\n",
       "      <td>1.0</td>\n",
       "      <td>9</td>\n",
       "      <td>4</td>\n",
       "      <td>24</td>\n",
       "      <td>-110.591224</td>\n",
       "      <td>43.670517</td>\n",
       "      <td>254.0</td>\n",
       "      <td>POINT (-110.59122 43.67052)</td>\n",
       "    </tr>\n",
       "    <tr>\n",
       "      <th>4</th>\n",
       "      <td>128</td>\n",
       "      <td>4EMEMrPA</td>\n",
       "      <td>Colton Lewer</td>\n",
       "      <td>60.00</td>\n",
       "      <td>MountainHub</td>\n",
       "      <td>2019-04-24T15:53:19</td>\n",
       "      <td>2188.988770</td>\n",
       "      <td>532362.586657</td>\n",
       "      <td>4.835038e+06</td>\n",
       "      <td>2178</td>\n",
       "      <td>17.787811</td>\n",
       "      <td>7.0</td>\n",
       "      <td>1.0</td>\n",
       "      <td>15</td>\n",
       "      <td>4</td>\n",
       "      <td>24</td>\n",
       "      <td>-110.598580</td>\n",
       "      <td>43.667641</td>\n",
       "      <td>600.0</td>\n",
       "      <td>POINT (-110.59858 43.66764)</td>\n",
       "    </tr>\n",
       "  </tbody>\n",
       "</table>\n",
       "</div>"
      ],
      "text/plain": [
       "   index        id           author  depth       source            timestamp  \\\n",
       "0    124  D3gyiOmE  Katie O’Connell  10.00  MountainHub  2019-04-25T02:25:30   \n",
       "1    125  SEJG7WBM  Katie O’Connell  72.00  MountainHub  2019-04-25T02:24:32   \n",
       "2    126  Vn9QgQA7          Leanne   27.94  MountainHub  2019-04-24T15:56:24   \n",
       "3    127  xlFXLIST          Leanne   25.40  MountainHub  2019-04-24T15:53:28   \n",
       "4    128  4EMEMrPA     Colton Lewer  60.00  MountainHub  2019-04-24T15:53:19   \n",
       "\n",
       "     elevation              x             y  dem_elev      slope  aspect   lc  \\\n",
       "0  2131.137695  532422.643976  4.835319e+06      2128   8.500000     7.0  6.0   \n",
       "1  2127.995361  532364.144681  4.835374e+06      2124   6.775415     7.0  6.0   \n",
       "2  2146.224609  532764.130403  4.835319e+06      2147   7.386643     7.0  2.0   \n",
       "3  2156.758057  532954.088693  4.835360e+06      2154  11.259718     7.0  1.0   \n",
       "4  2188.988770  532362.586657  4.835038e+06      2178  17.787811     7.0  1.0   \n",
       "\n",
       "   tc  M   D         LON        LAT      H                     geometry  \n",
       "0   8  4  25 -110.597819  43.670172  100.0  POINT (-110.59782 43.67017)  \n",
       "1   6  4  25 -110.598541  43.670671  720.0  POINT (-110.59854 43.67067)  \n",
       "2   7  4  24 -110.593583  43.670154  279.4  POINT (-110.59358 43.67015)  \n",
       "3   9  4  24 -110.591224  43.670517  254.0  POINT (-110.59122 43.67052)  \n",
       "4  15  4  24 -110.598580  43.667641  600.0  POINT (-110.59858 43.66764)  "
      ]
     },
     "execution_count": 12,
     "metadata": {},
     "output_type": "execute_result"
    }
   ],
   "source": [
    "# load previously made file \n",
    "csogdf = gpd.read_file(assimPath+\"CSO_attributes.json\", driver=\"GeoJSON\", crs=stn_proj)\n",
    "\n",
    "csogdf.head()"
   ]
  },
  {
   "cell_type": "code",
   "execution_count": 4,
   "metadata": {},
   "outputs": [
    {
     "data": {
      "text/plain": [
       "Index(['index', 'id', 'author', 'depth', 'source', 'timestamp', 'elevation',\n",
       "       'x', 'y', 'dem_elev', 'slope', 'aspect', 'lc', 'tc', 'M', 'D', 'LON',\n",
       "       'LAT', 'H', 'geometry'],\n",
       "      dtype='object')"
      ]
     },
     "execution_count": 4,
     "metadata": {},
     "output_type": "execute_result"
    }
   ],
   "source": [
    "csogdf.columns"
   ]
  },
  {
   "cell_type": "markdown",
   "metadata": {},
   "source": [
    "# aspect"
   ]
  },
  {
   "cell_type": "code",
   "execution_count": 5,
   "metadata": {},
   "outputs": [],
   "source": [
    "# aspect choices: 'N', 'NE', 'E', 'SE', 'S', 'SW', 'W', 'NW','flat'\n",
    "aspect_dict = {'N':0, 'NE':1, 'E':2, 'SE':3, 'S':4, 'SW':5, 'W':6, 'NW':7,'flat':8}\n"
   ]
  },
  {
   "cell_type": "code",
   "execution_count": 6,
   "metadata": {},
   "outputs": [
    {
     "data": {
      "image/png": "[encoded data removed]",
      "text/plain": [
       "<Figure size 360x288 with 1 Axes>"
      ]
     },
     "metadata": {
      "needs_background": "light"
     },
     "output_type": "display_data"
    }
   ],
   "source": [
    "labels, counts = np.unique(csogdf.aspect, return_counts=True)\n",
    "lab = ['N', 'NE', 'E', 'SE', 'S', 'SW', 'W', 'NW','flat']\n",
    "plt.figure(figsize=[5,4])\n",
    "plt.bar(lab, counts, align='center',color = 'darkblue')\n",
    "plt.gca().set_xticks(labels)\n",
    "plt.title('CSO aspect')\n",
    "plt.show()"
   ]
  },
  {
   "cell_type": "code",
   "execution_count": 11,
   "metadata": {},
   "outputs": [
    {
     "data": {
      "image/png": "[encoded data removed]",
      "text/plain": [
       "<Figure size 432x288 with 1 Axes>"
      ]
     },
     "metadata": {
      "needs_background": "light"
     },
     "output_type": "display_data"
    }
   ],
   "source": [
    "labels, counts = np.unique(gdf.aspect, return_counts=True)\n",
    "lab = ['N', 'NE', 'E', 'SE', 'S', 'SW', 'W', 'NW']\n",
    "plt.bar(lab, counts, align='center',color = 'darkblue')\n",
    "plt.gca().set_xticks(labels)\n",
    "plt.title('SNOTEL aspect')\n",
    "plt.show()"
   ]
  },
  {
   "cell_type": "code",
   "execution_count": 32,
   "metadata": {},
   "outputs": [
    {
     "data": {
      "image/png": "[encoded data removed]",
      "text/plain": [
       "<Figure size 720x288 with 2 Axes>"
      ]
     },
     "metadata": {
      "needs_background": "light"
     },
     "output_type": "display_data"
    }
   ],
   "source": [
    "labels, counts = np.unique(df.aspect, return_counts=True)\n",
    "lab = ['N', 'NE', 'E', 'SE', 'S', 'SW', 'W', 'NW','flat']\n",
    "fig,ax = plt.subplots(1,2,figsize=[10,4])\n",
    "ax[0].bar(lab, counts, align='center',color = 'darkblue')\n",
    "ax[0].set_xticks(labels)\n",
    "ax[0].set_title('CSO aspect')\n",
    "labels, counts = np.unique(gdf.aspect, return_counts=True)\n",
    "lab = ['N', 'NE', 'E', 'SE', 'S', 'SW', 'W', 'NW']\n",
    "ax[1].bar(lab, counts, align='center',color = 'darkblue')\n",
    "ax[1].set_xticks(labels)\n",
    "ax[1].set_title('SNOTEL aspect')\n",
    "plt.show()"
   ]
  },
  {
   "cell_type": "code",
   "execution_count": 33,
   "metadata": {},
   "outputs": [],
   "source": [
    "path = figpath+'wy19_assim_aspect.pdf'\n",
    "fig.savefig(path, format='pdf', dpi=300)"
   ]
  },
  {
   "cell_type": "code",
   "execution_count": 16,
   "metadata": {},
   "outputs": [
    {
     "data": {
      "text/plain": [
       "<matplotlib.axes._subplots.AxesSubplot at 0x7f5fbf563390>"
      ]
     },
     "execution_count": 16,
     "metadata": {},
     "output_type": "execute_result"
    },
    {
     "data": {
      "image/png": "[encoded data removed]",
      "text/plain": [
       "<Figure size 432x288 with 1 Axes>"
      ]
     },
     "metadata": {
      "needs_background": "light"
     },
     "output_type": "display_data"
    }
   ],
   "source": [
    "\n",
    "\n",
    "gdf.plot(column='aspect', categorical=True,legend=True)\n"
   ]
  },
  {
   "cell_type": "code",
   "execution_count": null,
   "metadata": {},
   "outputs": [],
   "source": [
    "gdf.plot(ax=ax, column='bias', cmap = 'BrBG',legend=True, transform=ccrs.PlateCarree(),vmin=-2000,vmax=2000)\n"
   ]
  },
  {
   "cell_type": "markdown",
   "metadata": {},
   "source": [
    "# month"
   ]
  },
  {
   "cell_type": "code",
   "execution_count": 42,
   "metadata": {},
   "outputs": [
    {
     "data": {
      "image/png": "[encoded data removed]",
      "text/plain": [
       "<Figure size 360x288 with 1 Axes>"
      ]
     },
     "metadata": {
      "needs_background": "light"
     },
     "output_type": "display_data"
    }
   ],
   "source": [
    "labels, counts = np.unique(df.M, return_counts=True)\n",
    "fig, ax = plt.subplots(1,figsize=[5,4])\n",
    "ax.bar(labels, counts, align='center',color = 'darkblue')\n",
    "ax.set_title('CSO month')\n",
    "plt.show()"
   ]
  },
  {
   "cell_type": "code",
   "execution_count": 43,
   "metadata": {},
   "outputs": [],
   "source": [
    "path = figpath+'wy19_assim_CSOmonth.pdf'\n",
    "fig.savefig(path, format='pdf', dpi=300)"
   ]
  },
  {
   "cell_type": "code",
   "execution_count": 18,
   "metadata": {},
   "outputs": [],
   "source": [
    "lc_dict ={\n",
    "    1:'coniferous forest',\n",
    "    2:'deciduous forest',\n",
    "    3:'mixed forest',       \n",
    "    4:'scattered short-conifer',\n",
    "    5:'clearcut conifer',   \n",
    "    6:'mesic upland shrub',\n",
    "    7:'xeric upland shrub',\n",
    "    8:'playa shrubland',   \n",
    "    9:'shrub wetland/riparian',\n",
    "    10:'erect shrub tundra',\n",
    "    11:'low shrub tundra',\n",
    "    12:'grassland rangeland',\n",
    "    13:'subalpine meadow',\n",
    "    14:'tundra (non-tussock)',\n",
    "    15:'tundra (tussock)',\n",
    "    16:'prostrate shrub tundra',\n",
    "    17:'arctic gram. wetland',\n",
    "    18:'bare',\n",
    "    19:'water/possibly frozen',\n",
    "    20:'permanent snow/glacier',\n",
    "    21:'residential/urban',\n",
    "    22:'tall crops',\n",
    "    23:'short crops',\n",
    "    24:'open water'}"
   ]
  },
  {
   "cell_type": "code",
   "execution_count": 13,
   "metadata": {},
   "outputs": [
    {
     "data": {
      "image/png": "[encoded data removed]",
      "text/plain": [
       "<Figure size 432x288 with 1 Axes>"
      ]
     },
     "metadata": {
      "needs_background": "light"
     },
     "output_type": "display_data"
    }
   ],
   "source": [
    "labels, counts = np.unique(df.lc, return_counts=True)\n",
    "lab =[]\n",
    "for i in range(len(labels)):\n",
    "    lab.append(lc_dict[labels[i]])\n",
    "plt.bar(lab, counts, align='center',color = 'darkblue')\n",
    "plt.xticks(rotation=-70)\n",
    "plt.title('CSO land cover')\n",
    "#plt.gca().set_xticks(labels)\n",
    "plt.show()"
   ]
  },
  {
   "cell_type": "code",
   "execution_count": 14,
   "metadata": {},
   "outputs": [
    {
     "data": {
      "image/png": "[encoded data removed]",
      "text/plain": [
       "<Figure size 432x288 with 1 Axes>"
      ]
     },
     "metadata": {
      "needs_background": "light"
     },
     "output_type": "display_data"
    }
   ],
   "source": [
    "labels, counts = np.unique(gdf.lc, return_counts=True)\n",
    "lab =[]\n",
    "for i in range(len(labels)):\n",
    "    lab.append(lc_dict[labels[i]])\n",
    "plt.bar(lab, counts, align='center',color = 'darkblue')\n",
    "plt.xticks(rotation=-70)\n",
    "plt.title('SNOTEL land cover')\n",
    "#plt.gca().set_xticks(labels)\n",
    "plt.show()"
   ]
  },
  {
   "cell_type": "code",
   "execution_count": 37,
   "metadata": {},
   "outputs": [
    {
     "data": {
      "image/png": "[encoded data removed]",
      "text/plain": [
       "<Figure size 720x288 with 2 Axes>"
      ]
     },
     "metadata": {
      "needs_background": "light"
     },
     "output_type": "display_data"
    }
   ],
   "source": [
    "labels, counts = np.unique(df.lc, return_counts=True)\n",
    "lab =[]\n",
    "for i in range(len(labels)):\n",
    "    lab.append(lc_dict[labels[i]])\n",
    "\n",
    "fig,ax = plt.subplots(1,2,figsize=[10,4])\n",
    "ax[0].bar(lab, counts, align='center',color = 'darkblue')\n",
    "ax[0].tick_params(labelrotation=-70)\n",
    "ax[0].set_title('CSO land cover')\n",
    "\n",
    "labels, counts = np.unique(gdf.lc, return_counts=True)\n",
    "lab =[]\n",
    "for i in range(len(labels)):\n",
    "    lab.append(lc_dict[labels[i]])\n",
    "ax[1].bar(lab, counts, align='center',color = 'darkblue')\n",
    "ax[1].tick_params(labelrotation=-70)\n",
    "ax[1].set_title('SNOTEL land cover')\n",
    "plt.show()"
   ]
  },
  {
   "cell_type": "code",
   "execution_count": 38,
   "metadata": {},
   "outputs": [],
   "source": [
    "path = figpath+'wy19_assim_lc.pdf'\n",
    "fig.savefig(path, format='pdf', dpi=300)"
   ]
  },
  {
   "cell_type": "code",
   "execution_count": 38,
   "metadata": {},
   "outputs": [
    {
     "data": {
      "text/plain": [
       "Text(0.5, 1.0, 'CSO elevation')"
      ]
     },
     "execution_count": 38,
     "metadata": {},
     "output_type": "execute_result"
    },
    {
     "data": {
      "image/png": "[encoded data removed]",
      "text/plain": [
       "<Figure size 432x288 with 1 Axes>"
      ]
     },
     "metadata": {
      "needs_background": "light"
     },
     "output_type": "display_data"
    }
   ],
   "source": [
    "plt.hist(df.dem_elev,bins=4, range=(df.dem_elev.min(),df.dem_elev.max()),color = 'darkblue')\n",
    "plt.title('CSO elevation')"
   ]
  },
  {
   "cell_type": "code",
   "execution_count": 36,
   "metadata": {},
   "outputs": [
    {
     "data": {
      "text/plain": [
       "Text(0.5, 1.0, 'SNOTEL elevation')"
      ]
     },
     "execution_count": 36,
     "metadata": {},
     "output_type": "execute_result"
    },
    {
     "data": {
      "image/png": "[encoded data removed]",
      "text/plain": [
       "<Figure size 432x288 with 1 Axes>"
      ]
     },
     "metadata": {
      "needs_background": "light"
     },
     "output_type": "display_data"
    }
   ],
   "source": [
    "plt.hist(gdf.dem_elev,bins=6, range=(df.dem_elev.min(),df.dem_elev.max()), color = 'darkblue')\n",
    "plt.title('SNOTEL elevation')"
   ]
  },
  {
   "cell_type": "code",
   "execution_count": 19,
   "metadata": {},
   "outputs": [
    {
     "data": {
      "text/plain": [
       "(1774, 2069)"
      ]
     },
     "execution_count": 19,
     "metadata": {},
     "output_type": "execute_result"
    }
   ],
   "source": [
    "min(df.dem_elev), min(gdf.dem_elev)"
   ]
  },
  {
   "cell_type": "code",
   "execution_count": 33,
   "metadata": {},
   "outputs": [
    {
     "data": {
      "text/plain": [
       "array([1774. , 2062.4, 2350.8, 2639.2, 2927.6, 3216. ])"
      ]
     },
     "execution_count": 33,
     "metadata": {},
     "output_type": "execute_result"
    }
   ],
   "source": [
    "np.histogram_bin_edges(gdf.dem_elev,bins=4, range=(df.dem_elev.min(),df.dem_elev.max()))"
   ]
  },
  {
   "cell_type": "code",
   "execution_count": 34,
   "metadata": {},
   "outputs": [
    {
     "data": {
      "text/plain": [
       "array([1774. , 2062.4, 2350.8, 2639.2, 2927.6, 3216. ])"
      ]
     },
     "execution_count": 34,
     "metadata": {},
     "output_type": "execute_result"
    }
   ],
   "source": [
    "np.histogram_bin_edges(df.dem_elev,bins=4, range=(df.dem_elev.min(),df.dem_elev.max()))"
   ]
  },
  {
   "cell_type": "code",
   "execution_count": 12,
   "metadata": {},
   "outputs": [
    {
     "data": {
      "text/plain": [
       "Text(0.5, 1.0, 'SNOTEL elevation')"
      ]
     },
     "execution_count": 12,
     "metadata": {},
     "output_type": "execute_result"
    },
    {
     "data": {
      "image/png": "[encoded data removed]",
      "text/plain": [
       "<Figure size 720x288 with 2 Axes>"
      ]
     },
     "metadata": {
      "needs_background": "light"
     },
     "output_type": "display_data"
    }
   ],
   "source": [
    "fig,ax = plt.subplots(1,2,figsize=[10,4])\n",
    "ax[0].hist(df.dem_elev,bins=5, range=(df.dem_elev.min(),df.dem_elev.max()),color = 'darkblue')\n",
    "ax[0].set_title('CSO elevation')\n",
    "ax[1].hist(gdf.dem_elev,bins=5, range=(df.dem_elev.min(),df.dem_elev.max()), color = 'darkblue')\n",
    "ax[1].set_title('SNOTEL elevation')"
   ]
  },
  {
   "cell_type": "code",
   "execution_count": 40,
   "metadata": {},
   "outputs": [],
   "source": [
    "path = figpath+'wy19_assim_elev.pdf'\n",
    "fig.savefig(path, format='pdf', dpi=300)"
   ]
  },
  {
   "cell_type": "code",
   "execution_count": 8,
   "metadata": {},
   "outputs": [
    {
     "data": {
      "text/plain": [
       "Text(0.5, 1.0, 'SNOTEL slope')"
      ]
     },
     "execution_count": 8,
     "metadata": {},
     "output_type": "execute_result"
    },
    {
     "data": {
      "image/png": "[encoded data removed]",
      "text/plain": [
       "<Figure size 720x288 with 2 Axes>"
      ]
     },
     "metadata": {
      "needs_background": "light"
     },
     "output_type": "display_data"
    }
   ],
   "source": [
    "fig,ax = plt.subplots(1,2,figsize=[10,4])\n",
    "ax[0].hist(df.slope,bins=8, range=(df.slope.min(),df.slope.max()),color = 'darkblue')\n",
    "ax[0].set_title('CSO slope')\n",
    "ax[1].hist(gdf.slope,bins=8, range=(df.slope.min(),df.slope.max()), color = 'darkblue')\n",
    "ax[1].set_title('SNOTEL slope')"
   ]
  },
  {
   "cell_type": "markdown",
   "metadata": {},
   "source": [
    "## terrain complexity"
   ]
  },
  {
   "cell_type": "code",
   "execution_count": null,
   "metadata": {},
   "outputs": [],
   "source": [
    "# terrain complexity -> for each dem pixel calculate the standard deviation of the surrounding pixels "
   ]
  },
  {
   "cell_type": "code",
   "execution_count": 15,
   "metadata": {},
   "outputs": [
    {
     "data": {
      "text/plain": [
       "Text(0.5, 1.0, 'CSOL terrain complexity')"
      ]
     },
     "execution_count": 15,
     "metadata": {},
     "output_type": "execute_result"
    },
    {
     "data": {
      "image/png": "[encoded data removed]",
      "text/plain": [
       "<Figure size 432x288 with 1 Axes>"
      ]
     },
     "metadata": {
      "needs_background": "light"
     },
     "output_type": "display_data"
    }
   ],
   "source": [
    "plt.hist(csogdf.tc,bins=6, range=(csogdf.tc.min(),csogdf.tc.max()), color = 'darkblue')\n",
    "plt.title('CSOL terrain complexity')"
   ]
  },
  {
   "cell_type": "code",
   "execution_count": 16,
   "metadata": {},
   "outputs": [
    {
     "data": {
      "text/plain": [
       "Text(0.5, 1.0, 'SNOTEL terrain complexity')"
      ]
     },
     "execution_count": 16,
     "metadata": {},
     "output_type": "execute_result"
    },
    {
     "data": {
      "image/png": "[encoded data removed]",
      "text/plain": [
       "<Figure size 432x288 with 1 Axes>"
      ]
     },
     "metadata": {
      "needs_background": "light"
     },
     "output_type": "display_data"
    }
   ],
   "source": [
    "plt.hist(gdf.tc,bins=6, range=(csogdf.tc.min(),csogdf.tc.max()), color = 'darkblue')\n",
    "plt.title('SNOTEL terrain complexity')"
   ]
  },
  {
   "cell_type": "code",
   "execution_count": 17,
   "metadata": {},
   "outputs": [
    {
     "data": {
      "text/plain": [
       "Text(0.5, 1.0, 'SNOTEL terrain complexity')"
      ]
     },
     "execution_count": 17,
     "metadata": {},
     "output_type": "execute_result"
    },
    {
     "data": {
      "image/png": "[encoded data removed]",
      "text/plain": [
       "<Figure size 720x288 with 2 Axes>"
      ]
     },
     "metadata": {
      "needs_background": "light"
     },
     "output_type": "display_data"
    }
   ],
   "source": [
    "#sampling window of 5\n",
    "fig,ax = plt.subplots(1,2,figsize=[10,4])\n",
    "ax[0].hist(csogdf.tc,bins=6, range=(csogdf.tc.min(),csogdf.tc.max()), color = 'darkblue')\n",
    "ax[0].set_title('CSO terrain complexity')\n",
    "ax[1].hist(gdf.tc,bins=6, range=(csogdf.tc.min(),csogdf.tc.max()), color = 'darkblue')\n",
    "ax[1].set_title('SNOTEL terrain complexity')"
   ]
  },
  {
   "cell_type": "code",
   "execution_count": 17,
   "metadata": {},
   "outputs": [
    {
     "data": {
      "text/plain": [
       "Text(0.5, 1.0, 'SNOTEL terrain complexity')"
      ]
     },
     "execution_count": 17,
     "metadata": {},
     "output_type": "execute_result"
    },
    {
     "data": {
      "image/png": "[encoded data removed]",
      "text/plain": [
       "<Figure size 720x288 with 2 Axes>"
      ]
     },
     "metadata": {
      "needs_background": "light"
     },
     "output_type": "display_data"
    }
   ],
   "source": [
    "#sampling window of 3\n",
    "fig,ax = plt.subplots(1,2,figsize=[10,4])\n",
    "ax[0].hist(csogdf.tc,bins=6, range=(csogdf.tc.min(),csogdf.tc.max()), color = 'darkblue')\n",
    "ax[0].set_title('CSO terrain complexity')\n",
    "ax[1].hist(gdf.tc,bins=6, range=(csogdf.tc.min(),csogdf.tc.max()), color = 'darkblue')\n",
    "ax[1].set_title('SNOTEL terrain complexity')"
   ]
  },
  {
   "cell_type": "code",
   "execution_count": 18,
   "metadata": {},
   "outputs": [],
   "source": [
    "path = figpath+'wy19_assim_tc.pdf'\n",
    "fig.savefig(path, format='pdf', dpi=300)"
   ]
  },
  {
   "cell_type": "code",
   "execution_count": null,
   "metadata": {},
   "outputs": [],
   "source": []
  }
 ],
 "metadata": {
  "kernelspec": {
   "display_name": "Python [conda env:snowmodelcal]",
   "language": "python",
   "name": "conda-env-snowmodelcal-py"
  },
  "language_info": {
   "codemirror_mode": {
    "name": "ipython",
    "version": 3
   },
   "file_extension": ".py",
   "mimetype": "text/x-python",
   "name": "python",
   "nbconvert_exporter": "python",
   "pygments_lexer": "ipython3",
   "version": "3.6.10"
  }
 },
 "nbformat": 4,
 "nbformat_minor": 4
}
